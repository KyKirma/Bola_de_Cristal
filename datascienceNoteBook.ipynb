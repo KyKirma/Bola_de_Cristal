{
 "cells": [
  {
   "cell_type": "markdown",
   "metadata": {},
   "source": [
    "Arquivo feito para testes e visualizar os df manipulados"
   ]
  },
  {
   "cell_type": "code",
   "execution_count": 1,
   "metadata": {},
   "outputs": [],
   "source": [
    "import pandas as pd\n",
    "import os\n",
    "from main import db\n",
    "from models import Campeonato, Times, TPC"
   ]
  },
  {
   "cell_type": "code",
   "execution_count": 2,
   "metadata": {},
   "outputs": [],
   "source": [
    "CSVPath = \"./DataBase\"\n",
    "CSVFiles = os.listdir(CSVPath)\n"
   ]
  },
  {
   "cell_type": "code",
   "execution_count": 14,
   "metadata": {},
   "outputs": [
    {
     "data": {
      "text/plain": [
       "[Campeonato(div='I2', ano='2023', regiao='Italia', nome='I2 Italia 2023'),\n",
       " Campeonato(div='I1', ano='2023', regiao='Italia', nome='I1 Italia 2023'),\n",
       " Campeonato(div='T1', ano='2023', regiao='Turquia', nome='T1 Turquia 2023'),\n",
       " Campeonato(div='SP1', ano='2023', regiao='Espanha', nome='SP1 Espanha 2023')]"
      ]
     },
     "execution_count": 14,
     "metadata": {},
     "output_type": "execute_result"
    }
   ],
   "source": [
    "#?Filtrar as regiões pelas div dos mesmos.\n",
    "div_to_regiao = {\n",
    "'B': 'Belgica',\n",
    "'D': 'Alemanha',\n",
    "'E': 'Inglaterra',\n",
    "'F': 'França',\n",
    "'G': 'Grecia',\n",
    "'I': 'Italia',\n",
    "'N': 'Holanda',\n",
    "'P': 'Portugal',\n",
    "'SC': 'Escocia',\n",
    "'SP': 'Espanha',\n",
    "'T': 'Turquia',\n",
    "}\n",
    "\n",
    "ListaTimes = []\n",
    "ListaCamp = []\n",
    "for arquivos_csv in CSVFiles:\n",
    "    df = pd.read_csv(os.path.join(CSVPath, arquivos_csv))\n",
    "    df['Regiao'] = df['Div'].str.extract(r'(\\D{1,2})\\d?')[0].map(div_to_regiao)\n",
    "    df['Ano'] = df['Date'].str.extract(r'(\\d{4})')\n",
    "\n",
    "    #Tabela Campeonatos\n",
    "    div = df['Div'].iloc[0]\n",
    "    regiao = df['Regiao'].iloc[0]\n",
    "    ano = df['Ano'].iloc[0]\n",
    "    nome = \"{} {} {}\".format(div, regiao, ano)\n",
    "    ListaCamp.append(Campeonato(div = div, ano = ano, regiao = regiao, nome = nome))\n",
    "\n",
    "    for index, row in df.iterrows():\n",
    "        #Tabela Times\n",
    "        home_team = row['HomeTeam']\n",
    "        away_team = row['AwayTeam']\n",
    "        ListaTimes.append(home_team)\n",
    "        ListaTimes.append(away_team)\n",
    "\n",
    "TimesTotal = list(set(ListaTimes))\n",
    "CampTotal = list(set(ListaCamp))\n",
    "for itens in TimesTotal:\n",
    "    pass\n",
    "    db.session.add(Times(nome = itens))\n",
    "\n",
    "CampTotal\n",
    "#db.session.commit()\n"
   ]
  }
 ],
 "metadata": {
  "kernelspec": {
   "display_name": "Python 3",
   "language": "python",
   "name": "python3"
  },
  "language_info": {
   "codemirror_mode": {
    "name": "ipython",
    "version": 3
   },
   "file_extension": ".py",
   "mimetype": "text/x-python",
   "name": "python",
   "nbconvert_exporter": "python",
   "pygments_lexer": "ipython3",
   "version": "3.11.2"
  }
 },
 "nbformat": 4,
 "nbformat_minor": 2
}
